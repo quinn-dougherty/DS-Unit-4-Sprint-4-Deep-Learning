{
 "cells": [
  {
   "cell_type": "code",
   "execution_count": 2,
   "metadata": {},
   "outputs": [],
   "source": [
    "import numpy as np\n",
    "import pandas as pd\n",
    "import category_encoders as ce\n",
    "import keras\n",
    "# from pandarallel import pandarallel\n",
    "# pandarallel.initialize() # this may or may not be related to a segmentation fault error, and njobs\n",
    "from sklearn.preprocessing import StandardScaler\n",
    "from sklearn.model_selection import GridSearchCV\n",
    "from keras.models import Sequential\n",
    "from keras.layers import Dense\n",
    "from keras.wrappers.scikit_learn import KerasClassifier\n",
    "\n",
    "\n",
    "import warnings\n",
    "warnings.filterwarnings(\"ignores\", category=DataConversionWarning)\n",
    "\n"
   ]
  },
  {
   "cell_type": "code",
   "execution_count": null,
   "metadata": {},
   "outputs": [],
   "source": []
  },
  {
   "cell_type": "code",
   "execution_count": null,
   "metadata": {},
   "outputs": [],
   "source": []
  },
  {
   "cell_type": "code",
   "execution_count": null,
   "metadata": {},
   "outputs": [],
   "source": [
    "%%time\n",
    "\n",
    "# Important Hyperparameters\n",
    "inputs = X.shape[1]\n",
    "epochs = 22\n",
    "batch_size = 16\n",
    "\n",
    "def create_model(optimizer, layers_topo, loss): \n",
    "    \n",
    "    # Create Model\n",
    "    model = Sequential()\n",
    "    model.add(Dense(inputs, activation='sigmoid', input_shape=(inputs,)))\n",
    "    for k in layers_topo: \n",
    "        model.add(Dense(k, activation='relu'))\n",
    "        model.add(Dense(k, activation='relu'))\n",
    "        model.add(Dense(k, activation='sigmoid'))\n",
    "    model.add(Dense(1))\n",
    "    # Compile Model\n",
    "    model.compile(optimizer=optimizer, metrics=['accuracy'], loss=loss)\n",
    "    \n",
    "    return model\n",
    "\n",
    "model = KerasClassifier(build_fn=create_model, verbose=0)\n",
    "\n",
    "batch_size = [64, 128]\n",
    "epochs = [256]\n",
    "losses = ['binary_crossentropy', 'mse']\n",
    "optimizers = ['adam', 'SGD']\n",
    "layering = [[64,32,64], [32,64,32]]\n",
    "\n",
    "param_grid = dict(batch_size=batch_size, epochs=epochs, loss=losses, optimizer=optimizers, layers_topo=layering)\n",
    "\n",
    "grid = GridSearchCV(estimator=model, param_grid=param_grid, cv=5, iid=False, verbose=0)\n",
    "\n",
    "grid_result = grid.fit(X, y)\n"
   ]
  },
  {
   "cell_type": "code",
   "execution_count": 3,
   "metadata": {},
   "outputs": [
    {
     "name": "stdout",
     "output_type": "stream",
     "text": [
      "[1, 2, 3, 4, 5, 6]\n",
      "6\n",
      "[1, 2, 3, 4, 5]\n"
     ]
    }
   ],
   "source": [
    "x = [1,2,3,4,5,6]\n",
    "\n",
    "print(x)\n",
    "\n",
    "print(x.pop(-1))\n",
    "\n",
    "print(x)"
   ]
  }
 ],
 "metadata": {
  "kernelspec": {
   "display_name": "Python 3",
   "language": "python",
   "name": "python3"
  },
  "language_info": {
   "codemirror_mode": {
    "name": "ipython",
    "version": 3
   },
   "file_extension": ".py",
   "mimetype": "text/x-python",
   "name": "python",
   "nbconvert_exporter": "python",
   "pygments_lexer": "ipython3",
   "version": "3.6.6"
  }
 },
 "nbformat": 4,
 "nbformat_minor": 2
}
