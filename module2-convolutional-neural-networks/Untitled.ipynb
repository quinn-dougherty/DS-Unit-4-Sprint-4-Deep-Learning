{
 "cells": [
  {
   "cell_type": "markdown",
   "metadata": {},
   "source": [
    "# Assignment\n",
    "\n",
    "Load a pretrained network from TensorFlow Hub, [ResNet50](https://tfhub.dev/google/imagenet/resnet_v1_50/classification/1) - a 50 layer deep network trained to recognize [1000 objects](https://storage.googleapis.com/download.tensorflow.org/data/ImageNetLabels.txt). Starting usage:\n",
    "\n",
    "```python\n",
    "module = hub.Module(\"https://tfhub.dev/google/imagenet/resnet_v1_50/classification/1\")\n",
    "height, width = hub.get_expected_image_size(module)\n",
    "images = ...  # A batch of images with shape [batch_size, height, width, 3].\n",
    "logits = module(images)  # Logits with shape [batch_size, num_classes].\n",
    "```\n",
    "\n",
    "Apply it to classify the images downloaded below (images from a search for animals in national parks):"
   ]
  },
  {
   "cell_type": "code",
   "execution_count": 3,
   "metadata": {},
   "outputs": [
    {
     "name": "stderr",
     "output_type": "stream",
     "text": [
      "WARNING: Logging before flag parsing goes to stderr.\n",
      "W0409 13:29:54.254402 140080772798272 __init__.py:56] Some hub symbols are not available because TensorFlow version is less than 1.14\n"
     ]
    },
    {
     "name": "stdout",
     "output_type": "stream",
     "text": [
      "\n",
      "Item no.: 1 --> Item name = animal national park\n",
      "Evaluating...\n",
      "Starting Download...\n",
      "Image URL: https://npca.s3.amazonaws.com/images/8135/2c7e0d75-c7ff-4336-99d7-259448d03a4d-banner.jpg?1445969501\n",
      "Completed Image ====> 1. 2c7e0d75-c7ff-4336-99d7-259448d03a4d-banner.jpg\n",
      "Image URL: https://i.ytimg.com/vi/P8NJa_YoRxk/maxresdefault.jpg\n",
      "Completed Image ====> 2. maxresdefault.jpg\n",
      "Image URL: https://greenglobaltravel.com/wp-content/uploads/2017/04/Best-National-Parks-In-USA-For-Wildlife-Watching.jpg\n",
      "Completed Image ====> 3. best-national-parks-in-usa-for-wildlife-watching.jpg\n",
      "Image URL: https://www.nps.gov/voya/learn/nature/images/VOYA_web_deer.jpg?maxwidth=1200&maxheight=1200&autorotate=false\n",
      "Completed Image ====> 4. voya_web_deer.jpg\n",
      "Image URL: https://www.princess.com/images/global/learn/cruise-destinations/alaska-cruises/alaska-cruise-tips/cruise-preparation-and-tips/spot-denali-national-parks-animals.jpg\n",
      "Completed Image ====> 5. spot-denali-national-parks-animals.jpg\n",
      "Image URL: https://www.tourmyindia.com/blog/wp-content/uploads/2017/06/Royal-Bengal-Tiger.jpg\n",
      "Completed Image ====> 6. royal-bengal-tiger.jpg\n",
      "Image URL: https://www.nps.gov/arch/learn/nature/images/ARK_6.jpg?maxwidth=1200&maxheight=1200&autorotate=false\n",
      "Completed Image ====> 7. ark_6.jpg\n",
      "Image URL: https://www.kideponationalpark.com/wp-content/uploads/2016/11/zebras-in-kidepo-750x450.jpg\n",
      "Completed Image ====> 8. zebras-in-kidepo-750x450.jpg\n",
      "Image URL: http://images.huffingtonpost.com/2014-06-03-ChitwanNationalParkOlance.jpg\n",
      "Completed Image ====> 9. 2014-06-03-chitwannationalparkolance.jpg\n",
      "Image URL: http://www.nature-reserve.co.za/images/addo-elephant-national-park-elephants-590x390.jpg\n",
      "Completed Image ====> 10. addo-elephant-national-park-elephants-590x390.jpg\n",
      "Image URL: https://lookaside.fbsbx.com/lookaside/crawler/media/?media_id=1300471933301491\n",
      "Completed Image ====> 11. ?media_id=1300471933301491.jpg\n",
      "Image URL: http://www.nepaljunglecamp.com/assets/images/wildlife-animal.jpg\n",
      "Completed Image ====> 12. wildlife-animal.jpg\n",
      "Image URL: https://d27k8xmh3cuzik.cloudfront.net/wp-content/uploads/2016/08/Gir-Forest-National-Park-1.jpg\n",
      "Completed Image ====> 13. gir-forest-national-park-1.jpg\n",
      "Image URL: https://africanbluetours.com/wp-content/uploads/2015/04/2-day-kruger-slider1.jpg\n",
      "Completed Image ====> 14. 2-day-kruger-slider1.jpg\n",
      "Image URL: https://upload.wikimedia.org/wikipedia/commons/1/1f/Tiger_Kanha_National_Park.jpg\n",
      "Completed Image ====> 15. tiger_kanha_national_park.jpg\n",
      "Image URL: https://www.atlasandboots.com/wp-content/uploads/2015/08/best-national-parks-in-the-world-the-galapagos.jpg\n",
      "Completed Image ====> 16. best-national-parks-in-the-world-the-galapagos.jpg\n",
      "Image URL: https://npca.s3.amazonaws.com/images/9193/7a858c97-cfac-4057-b18f-e3b87b810d80-banner.jpg?1446232224\n",
      "Completed Image ====> 17. 7a858c97-cfac-4057-b18f-e3b87b810d80-banner.jpg\n",
      "Image URL: https://upload.wikimedia.org/wikipedia/commons/thumb/5/54/Nairobi_National_Park%2C_Kenya_%2832570316676%29.jpg/1200px-Nairobi_National_Park%2C_Kenya_%2832570316676%29.jpg\n",
      "Completed Image ====> 18. 1200px-nairobi_national_park%2c_kenya_%2832570316676%29.jpg\n",
      "Image URL: https://thumbs.dreamstime.com/z/wild-animal-africa-serengeti-national-park-1972698.jpg\n",
      "Completed Image ====> 19. wild-animal-africa-serengeti-national-park-1972698.jpg\n",
      "Image URL: https://c402277.ssl.cf1.rackcdn.com/photos/3355/images/blog_media_carousel/moose.jpg?1357700321\n",
      "Completed Image ====> 20. moose.jpg\n",
      "\n",
      "Errors: 0\n",
      "\n"
     ]
    }
   ],
   "source": [
    "from google_images_download import google_images_download\n",
    "import tensorflow as tf\n",
    "import tensorflow_hub as hub\n",
    "\n",
    "response = google_images_download.googleimagesdownload()\n",
    "arguments = {\"keywords\": \"animal national park\", \"limit\": 20,\n",
    "             \"print_urls\": True}\n",
    "absolute_image_paths = response.download(arguments)"
   ]
  },
  {
   "cell_type": "markdown",
   "metadata": {},
   "source": [
    "Report both the most likely estimated class for any image, and also investigate (a) images where the classifier isn't that certain (the best estimate is low), and (b) images where the classifier fails.\n",
    "\n",
    "Answer (in writing in the notebook) the following - \"What sorts of images do CNN classifiers do well with? What sorts do they not do so well? And what are your hypotheses for why?\""
   ]
  },
  {
   "cell_type": "code",
   "execution_count": 5,
   "metadata": {},
   "outputs": [
    {
     "ename": "RuntimeError",
     "evalue": "variable_scope module_1/ was unused but the corresponding name_scope was already taken.",
     "output_type": "error",
     "traceback": [
      "\u001b[0;31m---------------------------------------------------------------------------\u001b[0m",
      "\u001b[0;31mRuntimeError\u001b[0m                              Traceback (most recent call last)",
      "\u001b[0;32m<ipython-input-5-43468797dbe8>\u001b[0m in \u001b[0;36m<module>\u001b[0;34m\u001b[0m\n\u001b[0;32m----> 1\u001b[0;31m \u001b[0mmodule\u001b[0m \u001b[0;34m=\u001b[0m \u001b[0mhub\u001b[0m\u001b[0;34m.\u001b[0m\u001b[0mModule\u001b[0m\u001b[0;34m(\u001b[0m\u001b[0;34m\"https://tfhub.dev/google/imagenet/resnet_v1_50/classification/1\"\u001b[0m\u001b[0;34m)\u001b[0m\u001b[0;34m\u001b[0m\u001b[0m\n\u001b[0m\u001b[1;32m      2\u001b[0m \u001b[0mheight\u001b[0m\u001b[0;34m,\u001b[0m \u001b[0mwidth\u001b[0m \u001b[0;34m=\u001b[0m \u001b[0mhub\u001b[0m\u001b[0;34m.\u001b[0m\u001b[0mget_expected_image_size\u001b[0m\u001b[0;34m(\u001b[0m\u001b[0mmodule\u001b[0m\u001b[0;34m)\u001b[0m\u001b[0;34m\u001b[0m\u001b[0m\n\u001b[1;32m      3\u001b[0m \u001b[0mimages\u001b[0m \u001b[0;34m=\u001b[0m \u001b[0;34m...\u001b[0m  \u001b[0;31m# A batch of images with shape [batch_size, height, width, 3].\u001b[0m\u001b[0;34m\u001b[0m\u001b[0m\n\u001b[1;32m      4\u001b[0m \u001b[0mlogits\u001b[0m \u001b[0;34m=\u001b[0m \u001b[0mmodule\u001b[0m\u001b[0;34m(\u001b[0m\u001b[0mimages\u001b[0m\u001b[0;34m)\u001b[0m  \u001b[0;31m# Logits with shape [batch_size, num_classes].\u001b[0m\u001b[0;34m\u001b[0m\u001b[0m\n",
      "\u001b[0;32m~/anaconda3/lib/python3.6/site-packages/tensorflow_hub/module.py\u001b[0m in \u001b[0;36m__init__\u001b[0;34m(self, spec, trainable, name, tags)\u001b[0m\n\u001b[1;32m    153\u001b[0m       \u001b[0;32mraise\u001b[0m \u001b[0mValueError\u001b[0m\u001b[0;34m(\u001b[0m\u001b[0;34m\"No such graph variant: tags=%r\"\u001b[0m \u001b[0;34m%\u001b[0m \u001b[0mtags\u001b[0m\u001b[0;34m)\u001b[0m\u001b[0;34m\u001b[0m\u001b[0m\n\u001b[1;32m    154\u001b[0m \u001b[0;34m\u001b[0m\u001b[0m\n\u001b[0;32m--> 155\u001b[0;31m     \u001b[0mabs_state_scope\u001b[0m \u001b[0;34m=\u001b[0m \u001b[0m_try_get_state_scope\u001b[0m\u001b[0;34m(\u001b[0m\u001b[0mname\u001b[0m\u001b[0;34m,\u001b[0m \u001b[0mmark_name_scope_used\u001b[0m\u001b[0;34m=\u001b[0m\u001b[0;32mFalse\u001b[0m\u001b[0;34m)\u001b[0m\u001b[0;34m\u001b[0m\u001b[0m\n\u001b[0m\u001b[1;32m    156\u001b[0m     \u001b[0mself\u001b[0m\u001b[0;34m.\u001b[0m\u001b[0m_name\u001b[0m \u001b[0;34m=\u001b[0m \u001b[0mabs_state_scope\u001b[0m\u001b[0;34m.\u001b[0m\u001b[0msplit\u001b[0m\u001b[0;34m(\u001b[0m\u001b[0;34m\"/\"\u001b[0m\u001b[0;34m)\u001b[0m\u001b[0;34m[\u001b[0m\u001b[0;34m-\u001b[0m\u001b[0;36m2\u001b[0m\u001b[0;34m]\u001b[0m\u001b[0;34m\u001b[0m\u001b[0m\n\u001b[1;32m    157\u001b[0m \u001b[0;34m\u001b[0m\u001b[0m\n",
      "\u001b[0;32m~/anaconda3/lib/python3.6/site-packages/tensorflow_hub/module.py\u001b[0m in \u001b[0;36m_try_get_state_scope\u001b[0;34m(name, mark_name_scope_used)\u001b[0m\n\u001b[1;32m    382\u001b[0m       raise RuntimeError(\n\u001b[1;32m    383\u001b[0m           \u001b[0;34m\"variable_scope %s was unused but the corresponding \"\u001b[0m\u001b[0;34m\u001b[0m\u001b[0m\n\u001b[0;32m--> 384\u001b[0;31m           \"name_scope was already taken.\" % abs_state_scope)\n\u001b[0m\u001b[1;32m    385\u001b[0m   \u001b[0;32mreturn\u001b[0m \u001b[0mabs_state_scope\u001b[0m\u001b[0;34m\u001b[0m\u001b[0m\n\u001b[1;32m    386\u001b[0m \u001b[0;34m\u001b[0m\u001b[0m\n",
      "\u001b[0;31mRuntimeError\u001b[0m: variable_scope module_1/ was unused but the corresponding name_scope was already taken."
     ]
    }
   ],
   "source": [
    "module = hub.Module(\"https://tfhub.dev/google/imagenet/resnet_v1_50/classification/1\")\n",
    "height, width = hub.get_expected_image_size(module)\n",
    "images = ...  # A batch of images with shape [batch_size, height, width, 3].\n",
    "logits = module(images)  # Logits with shape [batch_size, num_classes]."
   ]
  },
  {
   "cell_type": "code",
   "execution_count": null,
   "metadata": {},
   "outputs": [],
   "source": [
    "fjdkalfjdaljfdafdajfkdlajfdajfjdkflafjdklafjdfjkdlajf"
   ]
  }
 ],
 "metadata": {
  "kernelspec": {
   "display_name": "Python 3",
   "language": "python",
   "name": "python3"
  },
  "language_info": {
   "codemirror_mode": {
    "name": "ipython",
    "version": 3
   },
   "file_extension": ".py",
   "mimetype": "text/x-python",
   "name": "python",
   "nbconvert_exporter": "python",
   "pygments_lexer": "ipython3",
   "version": "3.6.6"
  }
 },
 "nbformat": 4,
 "nbformat_minor": 2
}
