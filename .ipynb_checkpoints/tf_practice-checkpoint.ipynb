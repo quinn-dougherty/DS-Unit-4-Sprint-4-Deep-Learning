{
 "cells": [
  {
   "cell_type": "code",
   "execution_count": 70,
   "metadata": {},
   "outputs": [
    {
     "name": "stdout",
     "output_type": "stream",
     "text": [
      "Tensor(\"X_8:0\", shape=(506, 14), dtype=float32) Tensor(\"y_8:0\", shape=(506, 1), dtype=float32)\n",
      "['consumers', 'device', 'dtype', 'eval', 'graph', 'name', 'op', 'shape']\n",
      "<module>\n"
     ]
    }
   ],
   "source": [
    "import sys\n",
    "import tensorflow as tf\n",
    "from sklearn.datasets import load_boston\n",
    "import pandas as pd\n",
    "import matplotlib.pyplot as plt\n",
    "plt.style.use('dark_background')\n",
    "boston = load_boston()\n",
    "''' THIS is how you print the name of a function from within the function\n",
    "   print(sys._getframe().f_code.co_name) \n",
    "\n",
    "'''#print([x for x in dir(boston) if '_' not in x])\n",
    "\n",
    "#print(boston.DESCR)\n",
    "\n",
    "def load_dat(dat: pd.DataFrame) -> pd.DataFrame: \n",
    "    return (dat.rename(columns={k: name \n",
    "                               for k,name \n",
    "                               in enumerate(['CRIM', 'ZN', 'INDUS', 'CHAS', \n",
    "                                                        'NOX', 'RM', 'AGE', 'DIS', 'RAD', \n",
    "                                                        'TAX', 'PTRATIO', 'B', 'LSTAT'])}\n",
    "                     )).assign(ones=pd.np.ones(dat.shape[0]))\n",
    "\n",
    "y_ = pd.DataFrame(boston.target, columns=['MEDV'])\n",
    "\n",
    "X_ = load_dat(pd.DataFrame(boston.data))\n",
    "\n",
    "X = tf.constant(X_.values, tf.float32, name='X') \n",
    "y = tf.constant(y_.values, tf.float32, name='y')\n",
    "print(X, y)\n",
    "print([x for x in dir(X) if '_' not in x])\n",
    "\n",
    "X_.head()\n",
    "\n"
   ]
  },
  {
   "cell_type": "code",
   "execution_count": 86,
   "metadata": {},
   "outputs": [],
   "source": [
    "# def predict(X: tf.Tensor, y: tf.Tensor) -> tf.Tensor: \n",
    "#     ''' will return yhat as a tensor '''\n",
    "#     beta = tf.ones((X.shape[1],1))\n",
    "#     #print(beta)\n",
    "#     o = tf.matmul(a=X, b=beta)\n",
    "\n",
    "#     with tf.Session() as sess: \n",
    "#         x = sess.run(o)\n",
    "#     return tf.constant(x, name='yhat')\n",
    "\n",
    "# predict(X, y)"
   ]
  },
  {
   "cell_type": "code",
   "execution_count": 147,
   "metadata": {},
   "outputs": [
    {
     "name": "stdout",
     "output_type": "stream",
     "text": [
      "(14, 1) (506,)\n",
      "[[1.]\n",
      " [1.]\n",
      " [1.]\n",
      " [1.]\n",
      " [1.]\n",
      " [1.]\n",
      " [1.]\n",
      " [1.]\n",
      " [1.]\n",
      " [1.]\n",
      " [1.]\n",
      " [1.]\n",
      " [1.]\n",
      " [1.]]\n"
     ]
    }
   ],
   "source": [
    "gam = tf.pow(2., -5, name='gamma')\n",
    "\n",
    "beta = tf.ones((X.shape[1],1))\n",
    "\n",
    "o = tf.matmul(a=X, b=beta)\n",
    "\n",
    "loss = tf.reduce_sum(tf.pow(tf.subtract(y, \n",
    "                                        o), \n",
    "                            tf.constant(2.)))\n",
    "\n",
    "# we want grad_loss to be a 14 x 1 vector \n",
    "gradloss_ = tf.multiply(beta, \n",
    "                        tf.reduce_sum(tf.subtract(y, o), axis=1))\n",
    "\n",
    "gradloss = tf.multiply(tf.constant(-2, tf.float32), \n",
    "                       gradloss_r)\n",
    "#gradloss_r = tf.multiply(beta, X)\n",
    "\n",
    "with tf.Session() as sess: \n",
    "    #x = sess.run(gradloss_r)\n",
    "    x = sess.run(beta)\n",
    "    y = sess.run(tf.reduce_sum(tf.subtract(y, o), axis=1))\n",
    "    \n",
    "    print(x.shape, y.shape)\n"
   ]
  },
  {
   "cell_type": "code",
   "execution_count": 112,
   "metadata": {},
   "outputs": [
    {
     "name": "stdout",
     "output_type": "stream",
     "text": [
      "[ 9 16 21 24 25]\n"
     ]
    }
   ],
   "source": [
    "with tf.Session() as sess:\n",
    "    print(sess.run(tf.multiply(tf.constant([9,8,7,6,5]), tf.constant([1,2,3,4,5]))))"
   ]
  },
  {
   "cell_type": "code",
   "execution_count": null,
   "metadata": {},
   "outputs": [],
   "source": []
  }
 ],
 "metadata": {
  "kernelspec": {
   "display_name": "Python 3",
   "language": "python",
   "name": "python3"
  },
  "language_info": {
   "codemirror_mode": {
    "name": "ipython",
    "version": 3
   },
   "file_extension": ".py",
   "mimetype": "text/x-python",
   "name": "python",
   "nbconvert_exporter": "python",
   "pygments_lexer": "ipython3",
   "version": "3.6.6"
  }
 },
 "nbformat": 4,
 "nbformat_minor": 2
}
