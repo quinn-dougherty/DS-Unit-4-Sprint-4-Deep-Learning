{
  "nbformat": 4,
  "nbformat_minor": 0,
  "metadata": {
    "colab": {
      "name": "LS_DS_444_AGI_and_The_Future.ipynb",
      "version": "0.3.2",
      "provenance": [],
      "collapsed_sections": []
    },
    "kernelspec": {
      "name": "python3",
      "display_name": "Python 3"
    }
  },
  "cells": [
    {
      "metadata": {
        "id": "_IizNKWLomoA",
        "colab_type": "text"
      },
      "cell_type": "markdown",
      "source": [
        "# Lambda School Data Science - Artificial General Intelligence and The Future\n",
        "\n",
        "![Future City](https://upload.wikimedia.org/wikipedia/commons/thumb/c/ce/City-of-the-future.jpg/640px-City-of-the-future.jpg)"
      ]
    },
    {
      "metadata": {
        "id": "moj-4gr89pum",
        "colab_type": "text"
      },
      "cell_type": "markdown",
      "source": [
        "# Lecture"
      ]
    },
    {
      "metadata": {
        "id": "0EZdBzC6pvV9",
        "colab_type": "text"
      },
      "cell_type": "markdown",
      "source": [
        "## Defining Intelligence"
      ]
    },
    {
      "metadata": {
        "id": "t9Y6I1aO9uCz",
        "colab_type": "text"
      },
      "cell_type": "markdown",
      "source": [
        "A straightforward definition of Artificial Intelligence would simply be \"intelligence, created from technology rather than biology.\" But that simply raises the question - what is *intelligence*?\n",
        "\n",
        "In the early history of computers, this seemed like an easier question. Intelligence meant solving tricky problems - things that took time and mental effort for a human to figure out.\n",
        "\n",
        "Defined that way, computers have made a litany of intelligent achievements over the years:\n",
        "- Arithmetic\n",
        "- Logic\n",
        "- Chess\n",
        "- Go\n",
        "- StarCraft\n",
        "- Mathematical proofs\n",
        "- Understanding natural language\n",
        "- Generating natural language\n",
        "- Understanding images\n",
        "- Generating images\n",
        "- Making medical diagnoses\n",
        "- Fitting and *optimizing* ML models\n",
        "\n",
        "And many more - every time you fit a simple regression, you're facilitating an act of artificial intelligence. You're writing code that will (hopefully) understand and generalize based on data, giving a \"human-like\" ability to intuit and predict something."
      ]
    },
    {
      "metadata": {
        "id": "vXdC1uCC91ID",
        "colab_type": "text"
      },
      "cell_type": "markdown",
      "source": [
        "## \"General\" Intelligence - a moving target\n",
        "\n",
        "But, somehow, that isn't what most people *really* mean when they talk about AI.\n",
        "\n",
        "![And they both react poorly to showers.](https://imgs.xkcd.com/comics/ai.png)\n",
        "\n",
        "Somewhere that word \"general\" snuck in, and now we're concerned about \"Artificial General Intelligence.\" So, what is that?\n",
        "\n",
        "![Data](https://upload.wikimedia.org/wikipedia/en/0/09/DataTNG.jpg)\n",
        "\n",
        "The inspiration is likely characters such as the above, but that's not a definition. Intuitively the claim is \"computers that can be thrown in a variety of environments and learn without guidance\", but another good definition (based on how people use the term) may simply be \"whatever we haven't figured out how to get computers to do yet.\"\n",
        "\n",
        "Repeatedly, claims are made about tasks that will require a \"true AI\" to achieve. Then, when those tasks are completed, the bar is moved, and \"true AI\" is somehow always a bit further off."
      ]
    },
    {
      "metadata": {
        "id": "IJV_2Ozk5LLV",
        "colab_type": "text"
      },
      "cell_type": "markdown",
      "source": [
        "## AI - Hype versus Value\n",
        "\n",
        "Hot off the presses! [Google launches an end-to-end AI platform](https://techcrunch.com/2019/04/10/google-expands-its-ai-services/)!\n",
        "\n",
        "...\n",
        "\n",
        "What does that mean? Well, it might mean a lot, but it's a little unclear what. Some selected [Hacker News](https://news.ycombinator.com/item?id=19626275) comments:\n",
        "\n",
        "> This platform focuses not on the this-AI-is-magic-and-can-solve-everything like many AI SaaS startups announced on Hacker News, but focuses on how to actually integrate this AI into production workflows, which is something I wish was discussed more often in AI. -- minimaxir\n",
        "\n",
        "> Looks like Google is taking over Cloud (from AWS) for AI by building an ecosystem and building tools for non Data scientists - consumer level product. Surely IBM can do similar thing with their recent Redhat acquisition, but will they ? -- amrrs\n",
        "\n",
        "> I work in building and deploying production ML/AI models but I'm having a lot of trouble cutting through the marketing jargon in this article and on Google's website as well. Can someone explain what this does in engineering terms? How does this differ from something like AWS Sagemaker? -- chibg10\n",
        "\n",
        "> This will make a bunch of startup's life really hard. I think it makes it harder to justify investing in your own ML pipeline or even building your own models for many use cases.\n",
        "\n",
        "One thing it definitely means - AI is a hot keyword, and people making hiring and other corporate decisions will be on the look out for it, even if they're not sure what it is.\n",
        "\n",
        "So - yes, you *do* know AI. AI is a real thing, and you are capable of using \"artificial\" technology to bring about real *intelligence* and insight.\n",
        "\n",
        "Do you know how to make an intelligent anthropomorphic android? No - and nobody else does yet, either. And that's OK. There's still lots of cool advances and things to learn and build."
      ]
    },
    {
      "metadata": {
        "id": "MpSkJFuIkJeU",
        "colab_type": "text"
      },
      "cell_type": "markdown",
      "source": [
        "## Automation, for good and ill\n",
        "\n",
        "It is worth spending a moment considering the double-edged sword that is automation. This story did not begin with artificial intelligence, or even statistics or mathematics - it began when the first tool inventor figured out how to make something clever like a lever or a wheel, and use it to reduce the amount of labor needed to achieve some task.\n",
        "\n",
        "In the modern day we talk about automation, but in practice most technology is best considered as a *productivity multiplier* - all businesses still need at least *some* humans around, if nothing else to make policy decisions and collect profit. But the productivity of each individual person can be greatly enhanced through the use of technology.\n",
        "\n",
        "Consider farming - formerly a signification source of employment (and also small family owned farms), technology has tranformed it into a large scale industry where a handful of people produce as much as many more did before. This progression has happened in many areas - fortunately, it is usually accompanied by job growth and opportunity as new markets and services are created by technology as well.\n",
        "\n",
        "So, is it different now? Maybe - \"history will say\" is the only safe stance. But we are automating work at an accelerating rate, and it's unclear where all this growth is going and where the opportunities will be. There's a pretty good bet that it'll involve computers and data - and that's probably a large part of why you're here!\n",
        "\n",
        "The purpose of this section is not to convince you of anything - it is just to make you think. As a Data Scientist, you will have an outsized impact on society, and it is your responsibility to consider that impact and what you want to do with it.\n",
        "\n",
        "**Important caveat** - think and engage with society, *but* strive to not be strident or unduly certain when you do so. Broadcasting political beliefs, especially while on the job market, usually closes more doors than it opens. So, consider perspectives, and encourage dialogue - don't just (re)broadcast outrage at the latest injustice."
      ]
    },
    {
      "metadata": {
        "id": "_vXHDbNnzGZz",
        "colab_type": "text"
      },
      "cell_type": "markdown",
      "source": [
        "## AutoML - taking our own jobs\n",
        "\n",
        "Us Data Scientists are not immune to automation. Behold, yet another voyage with the RMS Titanic 🚢:"
      ]
    },
    {
      "metadata": {
        "id": "YN4O5Ikxy2g8",
        "colab_type": "text"
      },
      "cell_type": "markdown",
      "source": [
        "![AutoML applied to Titanic data](https://github.com/minimaxir/automl-gs/raw/master/docs/console-demo.gif)"
      ]
    },
    {
      "metadata": {
        "id": "iy6RIQn9zKhp",
        "colab_type": "text"
      },
      "cell_type": "markdown",
      "source": [
        "### Using AutoML on some data you've probably seen before\n",
        "\n",
        "Let's start with [automl-gs](https://github.com/minimaxir/automl-gs), a very new library that just works directly from csv."
      ]
    },
    {
      "metadata": {
        "id": "GkJUFfsgnqr_",
        "colab_type": "code",
        "outputId": "cf810bae-5195-4e9b-e157-1ef9a10f1b1d",
        "colab": {
          "base_uri": "https://localhost:8080/",
          "height": 506
        }
      },
      "cell_type": "code",
      "source": [
        "!pip install automl_gs"
      ],
      "execution_count": 1,
      "outputs": [
        {
          "output_type": "stream",
          "text": [
            "Collecting automl_gs\n",
            "  Downloading https://files.pythonhosted.org/packages/c4/51/27833a08fe4f83711b09836ddd9128e275a6900c47e0e5782112ed611484/automl_gs-0.2.1.tar.gz\n",
            "Requirement already satisfied: pandas in /usr/local/lib/python3.6/dist-packages (from automl_gs) (0.22.0)\n",
            "Requirement already satisfied: scikit-learn in /usr/local/lib/python3.6/dist-packages (from automl_gs) (0.20.3)\n",
            "Collecting autopep8 (from automl_gs)\n",
            "\u001b[?25l  Downloading https://files.pythonhosted.org/packages/5b/ba/37d30e4263c51ee5a655118ac8c331e96a4e45fd4cea876a74b87af9ffc1/autopep8-1.4.3.tar.gz (113kB)\n",
            "\u001b[K    100% |████████████████████████████████| 122kB 10.5MB/s \n",
            "\u001b[?25hRequirement already satisfied: tqdm in /usr/local/lib/python3.6/dist-packages (from automl_gs) (4.28.1)\n",
            "Requirement already satisfied: jinja2>=2.8 in /usr/local/lib/python3.6/dist-packages (from automl_gs) (2.10)\n",
            "Requirement already satisfied: pyyaml in /usr/local/lib/python3.6/dist-packages (from automl_gs) (3.13)\n",
            "Requirement already satisfied: pytz>=2011k in /usr/local/lib/python3.6/dist-packages (from pandas->automl_gs) (2018.9)\n",
            "Requirement already satisfied: numpy>=1.9.0 in /usr/local/lib/python3.6/dist-packages (from pandas->automl_gs) (1.14.6)\n",
            "Requirement already satisfied: python-dateutil>=2 in /usr/local/lib/python3.6/dist-packages (from pandas->automl_gs) (2.5.3)\n",
            "Requirement already satisfied: scipy>=0.13.3 in /usr/local/lib/python3.6/dist-packages (from scikit-learn->automl_gs) (1.1.0)\n",
            "Collecting pycodestyle>=2.4.0 (from autopep8->automl_gs)\n",
            "\u001b[?25l  Downloading https://files.pythonhosted.org/packages/0e/0c/04a353e104d2f324f8ee5f4b32012618c1c86dd79e52a433b64fceed511b/pycodestyle-2.5.0-py2.py3-none-any.whl (51kB)\n",
            "\u001b[K    100% |████████████████████████████████| 51kB 16.4MB/s \n",
            "\u001b[?25hRequirement already satisfied: MarkupSafe>=0.23 in /usr/local/lib/python3.6/dist-packages (from jinja2>=2.8->automl_gs) (1.1.1)\n",
            "Requirement already satisfied: six>=1.5 in /usr/local/lib/python3.6/dist-packages (from python-dateutil>=2->pandas->automl_gs) (1.11.0)\n",
            "Building wheels for collected packages: automl-gs, autopep8\n",
            "  Building wheel for automl-gs (setup.py) ... \u001b[?25ldone\n",
            "\u001b[?25h  Stored in directory: /root/.cache/pip/wheels/2d/5e/f0/deffbd0fcc4afd6b065366dded7b9c8cd1b7c02f6b39c24552\n",
            "  Building wheel for autopep8 (setup.py) ... \u001b[?25ldone\n",
            "\u001b[?25h  Stored in directory: /root/.cache/pip/wheels/91/07/fd/99884826d575c769102ddec2f9b96c7ad57cc6b5ca3a5e02b4\n",
            "Successfully built automl-gs autopep8\n",
            "Installing collected packages: pycodestyle, autopep8, automl-gs\n",
            "Successfully installed automl-gs-0.2.1 autopep8-1.4.3 pycodestyle-2.5.0\n"
          ],
          "name": "stdout"
        }
      ]
    },
    {
      "metadata": {
        "id": "QsGIh584kH3A",
        "colab_type": "code",
        "colab": {
          "base_uri": "https://localhost:8080/",
          "height": 295
        },
        "outputId": "247ecbf6-6958-43dd-81d4-00c985be5e20"
      },
      "cell_type": "code",
      "source": [
        "!wget https://github.com/ryanleeallred/datasets/raw/master/car_regression.csv"
      ],
      "execution_count": 19,
      "outputs": [
        {
          "output_type": "stream",
          "text": [
            "--2019-04-11 04:03:24--  https://github.com/ryanleeallred/datasets/raw/master/car_regression.csv\n",
            "Resolving github.com (github.com)... 192.30.255.113, 192.30.255.112\n",
            "Connecting to github.com (github.com)|192.30.255.113|:443... connected.\n",
            "HTTP request sent, awaiting response... 302 Found\n",
            "Location: https://raw.githubusercontent.com/ryanleeallred/datasets/master/car_regression.csv [following]\n",
            "--2019-04-11 04:03:25--  https://raw.githubusercontent.com/ryanleeallred/datasets/master/car_regression.csv\n",
            "Resolving raw.githubusercontent.com (raw.githubusercontent.com)... 151.101.0.133, 151.101.64.133, 151.101.128.133, ...\n",
            "Connecting to raw.githubusercontent.com (raw.githubusercontent.com)|151.101.0.133|:443... connected.\n",
            "HTTP request sent, awaiting response... 200 OK\n",
            "Length: 263167 (257K) [text/plain]\n",
            "Saving to: ‘car_regression.csv’\n",
            "\n",
            "\rcar_regression.csv    0%[                    ]       0  --.-KB/s               \rcar_regression.csv  100%[===================>] 257.00K  --.-KB/s    in 0.03s   \n",
            "\n",
            "2019-04-11 04:03:25 (8.69 MB/s) - ‘car_regression.csv’ saved [263167/263167]\n",
            "\n"
          ],
          "name": "stdout"
        }
      ]
    },
    {
      "metadata": {
        "id": "mR0ba-7ikJCd",
        "colab_type": "code",
        "colab": {
          "base_uri": "https://localhost:8080/",
          "height": 191
        },
        "outputId": "ff858080-368f-4a42-cfe6-ffbd31385880"
      },
      "cell_type": "code",
      "source": [
        "!head car_regression.csv"
      ],
      "execution_count": 20,
      "outputs": [
        {
          "output_type": "stream",
          "text": [
            "make,price,body,mileage,engV,engType,registration,year,drive\n",
            "23,15500.0,0,68,2.5,1,1,2010,1\n",
            "50,20500.0,3,173,1.8,1,1,2011,2\n",
            "50,35000.0,2,135,5.5,3,1,2008,2\n",
            "50,17800.0,5,162,1.8,0,1,2012,0\n",
            "55,16600.0,0,83,2.0,3,1,2013,1\n",
            "30,6500.0,3,199,2.0,3,1,2003,0\n",
            "59,10500.0,4,185,1.5,0,1,2011,0\n",
            "50,21500.0,3,146,1.8,1,1,2012,2\n",
            "50,22700.0,3,125,2.2,0,1,2010,2\n"
          ],
          "name": "stdout"
        }
      ]
    },
    {
      "metadata": {
        "id": "JwEChFqKkLdW",
        "colab_type": "code",
        "colab": {
          "base_uri": "https://localhost:8080/",
          "height": 671
        },
        "outputId": "4c7af1af-20ca-4c46-afff-1154da461671"
      },
      "cell_type": "code",
      "source": [
        "from automl_gs import automl_grid_search\n",
        "\n",
        "automl_grid_search('car_regression.csv', 'price')"
      ],
      "execution_count": 21,
      "outputs": [
        {
          "output_type": "stream",
          "text": [
            "Solving a regression problem, minimizing mse using tensorflow.\n",
            "\n",
            "Modeling with field specifications:\n",
            "make: numeric\n",
            "body: categorical\n",
            "mileage: numeric\n",
            "engV: numeric\n",
            "engType: categorical\n",
            "registration: categorical\n",
            "year: numeric\n",
            "drive: categorical\n"
          ],
          "name": "stdout"
        },
        {
          "output_type": "display_data",
          "data": {
            "application/vnd.jupyter.widget-view+json": {
              "model_id": "5c28d6e8d1004b5a918339bf6a53583a",
              "version_minor": 0,
              "version_major": 2
            },
            "text/plain": [
              "HBox(children=(IntProgress(value=0), HTML(value='')))"
            ]
          },
          "metadata": {
            "tags": []
          }
        },
        {
          "output_type": "display_data",
          "data": {
            "application/vnd.jupyter.widget-view+json": {
              "model_id": "30b8db4161d142fab1febc408a5058d0",
              "version_minor": 0,
              "version_major": 2
            },
            "text/plain": [
              "HBox(children=(IntProgress(value=0, max=20), HTML(value='')))"
            ]
          },
          "metadata": {
            "tags": []
          }
        },
        {
          "output_type": "stream",
          "text": [
            "\r\r\r\r\r\r\r\r\r\r\r\r\r\r\r\r\n",
            "Metrics:\n",
            "trial_id: e6b5f502-7bea-4a98-b930-5b879d216814\n",
            "epoch: 20\n",
            "time_completed: 2019-04-11 04:03:59\n",
            "mse: 866335309.030034\n",
            "mae: 16044.953051733859\n",
            "r_2: -0.4194348823774972\n"
          ],
          "name": "stdout"
        },
        {
          "output_type": "error",
          "ename": "IndexError",
          "evalue": "ignored",
          "traceback": [
            "\u001b[0;31m---------------------------------------------------------------------------\u001b[0m",
            "\u001b[0;31mIndexError\u001b[0m                                Traceback (most recent call last)",
            "\u001b[0;32m<ipython-input-21-bf47de8a1866>\u001b[0m in \u001b[0;36m<module>\u001b[0;34m()\u001b[0m\n\u001b[1;32m      1\u001b[0m \u001b[0;32mfrom\u001b[0m \u001b[0mautoml_gs\u001b[0m \u001b[0;32mimport\u001b[0m \u001b[0mautoml_grid_search\u001b[0m\u001b[0;34m\u001b[0m\u001b[0;34m\u001b[0m\u001b[0m\n\u001b[1;32m      2\u001b[0m \u001b[0;34m\u001b[0m\u001b[0m\n\u001b[0;32m----> 3\u001b[0;31m \u001b[0mautoml_grid_search\u001b[0m\u001b[0;34m(\u001b[0m\u001b[0;34m'car_regression.csv'\u001b[0m\u001b[0;34m,\u001b[0m \u001b[0;34m'price'\u001b[0m\u001b[0;34m)\u001b[0m\u001b[0;34m\u001b[0m\u001b[0;34m\u001b[0m\u001b[0m\n\u001b[0m",
            "\u001b[0;32m/usr/local/lib/python3.6/dist-packages/automl_gs/automl_gs.py\u001b[0m in \u001b[0;36mautoml_grid_search\u001b[0;34m(csv_path, target_field, target_metric, framework, model_name, context, num_trials, split, num_epochs, col_types, gpu, tpu_address)\u001b[0m\n\u001b[1;32m     92\u001b[0m                     header=(best_result is None))\n\u001b[1;32m     93\u001b[0m \u001b[0;34m\u001b[0m\u001b[0m\n\u001b[0;32m---> 94\u001b[0;31m         \u001b[0mtrain_results\u001b[0m \u001b[0;34m=\u001b[0m \u001b[0mresults\u001b[0m\u001b[0;34m.\u001b[0m\u001b[0mtail\u001b[0m\u001b[0;34m(\u001b[0m\u001b[0;36m1\u001b[0m\u001b[0;34m)\u001b[0m\u001b[0;34m.\u001b[0m\u001b[0mto_dict\u001b[0m\u001b[0;34m(\u001b[0m\u001b[0;34m'records'\u001b[0m\u001b[0;34m)\u001b[0m\u001b[0;34m[\u001b[0m\u001b[0;36m0\u001b[0m\u001b[0;34m]\u001b[0m\u001b[0;34m\u001b[0m\u001b[0;34m\u001b[0m\u001b[0m\n\u001b[0m\u001b[1;32m     95\u001b[0m \u001b[0;34m\u001b[0m\u001b[0m\n\u001b[1;32m     96\u001b[0m         \u001b[0;31m# If the target metric improves, save the new hps/files,\u001b[0m\u001b[0;34m\u001b[0m\u001b[0;34m\u001b[0m\u001b[0;34m\u001b[0m\u001b[0m\n",
            "\u001b[0;31mIndexError\u001b[0m: list index out of range"
          ]
        }
      ]
    },
    {
      "metadata": {
        "id": "NSTNAnT9dS6J",
        "colab_type": "text"
      },
      "cell_type": "markdown",
      "source": [
        "Uh oh, what happened? There is an [open issue](https://github.com/minimaxir/automl-gs/issues/14) which suggests running via the command line `automl_gs` tool rather than the Python module to get better error messages for debugging."
      ]
    },
    {
      "metadata": {
        "id": "svF0TnE0keaj",
        "colab_type": "code",
        "colab": {
          "base_uri": "https://localhost:8080/",
          "height": 1146
        },
        "outputId": "33dbd241-31a1-4b09-f5c7-adf7bbc7b6f7"
      },
      "cell_type": "code",
      "source": [
        "!automl_gs car_regression.csv price"
      ],
      "execution_count": 22,
      "outputs": [
        {
          "output_type": "stream",
          "text": [
            "Solving a regression problem, minimizing mse using tensorflow.\n",
            "\n",
            "Modeling with field specifications:\n",
            "make: numeric\n",
            "body: categorical\n",
            "mileage: numeric\n",
            "engV: numeric\n",
            "engType: categorical\n",
            "registration: categorical\n",
            "year: numeric\n",
            "drive: categorical\n",
            "  0% 0/100 [00:00<?, ?trial/s]\n",
            "  0% 0/20 [00:00<?, ?epoch/s]\u001b[A\n",
            "  5% 1/20 [00:06<02:05,  6.60s/epoch]\u001b[A\n",
            " 10% 2/20 [00:07<01:05,  3.65s/epoch]\u001b[A\n",
            " 15% 3/20 [00:07<00:45,  2.67s/epoch]\u001b[A\n",
            " 20% 4/20 [00:08<00:34,  2.17s/epoch]\u001b[A\n",
            " 25% 5/20 [00:09<00:28,  1.87s/epoch]\u001b[A\n",
            " 30% 6/20 [00:10<00:23,  1.67s/epoch]\u001b[A\n",
            " 35% 7/20 [00:10<00:19,  1.53s/epoch]\u001b[A\n",
            " 40% 8/20 [00:11<00:17,  1.42s/epoch]\u001b[A\n",
            " 45% 9/20 [00:12<00:14,  1.34s/epoch]\u001b[A\n",
            " 50% 10/20 [00:12<00:12,  1.28s/epoch]\u001b[A\n",
            " 55% 11/20 [00:13<00:10,  1.22s/epoch]\u001b[A\n",
            " 60% 12/20 [00:14<00:09,  1.18s/epoch]\u001b[A\n",
            " 65% 13/20 [00:14<00:07,  1.14s/epoch]\u001b[A\n",
            " 70% 14/20 [00:15<00:06,  1.11s/epoch]\u001b[A\n",
            " 75% 15/20 [00:16<00:05,  1.08s/epoch]\u001b[A\n",
            " 80% 16/20 [00:16<00:04,  1.05s/epoch]\u001b[A\n",
            " 85% 17/20 [00:17<00:03,  1.03s/epoch]\u001b[A\n",
            " 90% 18/20 [00:18<00:02,  1.01s/epoch]\u001b[A\n",
            " 95% 19/20 [00:18<00:00,  1.01epoch/s]\u001b[A\n",
            "100% 20/20 [00:19<00:00,  1.02epoch/s]\u001b[A\n",
            "                              \n",
            "\u001b[A\n",
            "Metrics:\n",
            "trial_id: 8b7e7e91-8925-4b32-acfd-a780522f41d4\n",
            "epoch: 20\n",
            "time_completed: 2019-04-11 04:05:21\n",
            "mse: 870882869.0303116\n",
            "mae: 16141.396612378321\n",
            "r_2: -0.4268857679951292\n",
            "  0% 0/100 [00:20<?, ?trial/s]\n",
            "  1% 1/100 [00:20<33:42, 20.43s/trial]Traceback (most recent call last):\n",
            "  File \"model.py\", line 48, in <module>\n",
            "    model_train(df, encoders, args, model)\n",
            "  File \"/content/automl_train/pipeline.py\", line 433, in model_train\n",
            "    batch_size=128)\n",
            "  File \"/usr/local/lib/python3.6/dist-packages/tensorflow/python/keras/engine/training.py\", line 776, in fit\n",
            "    shuffle=shuffle)\n",
            "  File \"/usr/local/lib/python3.6/dist-packages/tensorflow/python/keras/engine/training.py\", line 2382, in _standardize_user_data\n",
            "    exception_prefix='input')\n",
            "  File \"/usr/local/lib/python3.6/dist-packages/tensorflow/python/keras/engine/training_utils.py\", line 362, in standardize_input_data\n",
            "    ' but got array with shape ' + str(data_shape))\n",
            "ValueError: Error when checking input: expected input_engtype to have shape (1,) but got array with shape (2,)\n",
            "\n",
            "  0% 0/20 [00:00<?, ?epoch/s]\u001b[ATraceback (most recent call last):\n",
            "  File \"/usr/local/bin/automl_gs\", line 10, in <module>\n",
            "    sys.exit(cmd())\n",
            "  File \"/usr/local/lib/python3.6/dist-packages/automl_gs/automl_gs.py\", line 175, in cmd\n",
            "    tpu_address=args.tpu_address)\n",
            "  File \"/usr/local/lib/python3.6/dist-packages/automl_gs/automl_gs.py\", line 94, in automl_grid_search\n",
            "    train_results = results.tail(1).to_dict('records')[0]\n",
            "IndexError: list index out of range\n",
            "\n"
          ],
          "name": "stdout"
        }
      ]
    },
    {
      "metadata": {
        "id": "oRqYSY4yde1L",
        "colab_type": "text"
      },
      "cell_type": "markdown",
      "source": [
        "So, the real issue is in some intermediary step - let's see if we can get rid of engType."
      ]
    },
    {
      "metadata": {
        "id": "N0sHkyabk9Pj",
        "colab_type": "code",
        "colab": {
          "base_uri": "https://localhost:8080/",
          "height": 1505
        },
        "outputId": "26a91983-c1b8-4003-cfd4-6978516828fa"
      },
      "cell_type": "code",
      "source": [
        "automl_grid_search('car_regression.csv', 'price', col_types={\n",
        "    'engType': 'ignore'\n",
        "})"
      ],
      "execution_count": 23,
      "outputs": [
        {
          "output_type": "stream",
          "text": [
            "Solving a regression problem, minimizing mse using tensorflow.\n",
            "\n",
            "Modeling with field specifications:\n",
            "make: numeric\n",
            "body: categorical\n",
            "mileage: numeric\n",
            "engV: numeric\n",
            "engType: ignore\n",
            "registration: categorical\n",
            "year: numeric\n",
            "drive: categorical\n"
          ],
          "name": "stdout"
        },
        {
          "output_type": "display_data",
          "data": {
            "application/vnd.jupyter.widget-view+json": {
              "model_id": "df8544f1464a4a3a9bb3db070c4d758d",
              "version_minor": 0,
              "version_major": 2
            },
            "text/plain": [
              "HBox(children=(IntProgress(value=0), HTML(value='')))"
            ]
          },
          "metadata": {
            "tags": []
          }
        },
        {
          "output_type": "display_data",
          "data": {
            "application/vnd.jupyter.widget-view+json": {
              "model_id": "5528c6c1ed104507be3a0278bc9ce430",
              "version_minor": 0,
              "version_major": 2
            },
            "text/plain": [
              "HBox(children=(IntProgress(value=0, max=20), HTML(value='')))"
            ]
          },
          "metadata": {
            "tags": []
          }
        },
        {
          "output_type": "stream",
          "text": [
            "\r\r\r\r\r\r\r\r\r\r\r\r\r\r\r\r\r\r\n",
            "Metrics:\n",
            "trial_id: 1c5a2168-326b-4d9d-8a40-1a2b5dffe433\n",
            "epoch: 20\n",
            "time_completed: 2019-04-11 04:08:00\n",
            "mse: 870868554.7675673\n",
            "mae: 16140.953204050678\n",
            "r_2: -0.4268623149929911\n",
            "\n",
            "\n",
            "Metrics:\n",
            "trial_id: dcc41b38-c734-4e34-8679-0d3e1082c1e0\n",
            "epoch: 20\n",
            "time_completed: 2019-04-11 04:09:30\n",
            "mse: 865371717.0329753\n",
            "mae: 15982.412941232213\n",
            "r_2: -0.4178560986447455\n"
          ],
          "name": "stdout"
        },
        {
          "output_type": "error",
          "ename": "FileNotFoundError",
          "evalue": "ignored",
          "traceback": [
            "\u001b[0;31m---------------------------------------------------------------------------\u001b[0m",
            "\u001b[0;31mFileNotFoundError\u001b[0m                         Traceback (most recent call last)",
            "\u001b[0;32m<ipython-input-23-1a57aaf11428>\u001b[0m in \u001b[0;36m<module>\u001b[0;34m()\u001b[0m\n\u001b[1;32m      1\u001b[0m automl_grid_search('car_regression.csv', 'price', col_types={\n\u001b[0;32m----> 2\u001b[0;31m     \u001b[0;34m'engType'\u001b[0m\u001b[0;34m:\u001b[0m \u001b[0;34m'ignore'\u001b[0m\u001b[0;34m\u001b[0m\u001b[0;34m\u001b[0m\u001b[0m\n\u001b[0m\u001b[1;32m      3\u001b[0m })\n",
            "\u001b[0;32m/usr/local/lib/python3.6/dist-packages/automl_gs/automl_gs.py\u001b[0m in \u001b[0;36mautoml_grid_search\u001b[0;34m(csv_path, target_field, target_metric, framework, model_name, context, num_trials, split, num_epochs, col_types, gpu, tpu_address)\u001b[0m\n\u001b[1;32m     85\u001b[0m         \u001b[0;31m# and append to the metrics CSV.\u001b[0m\u001b[0;34m\u001b[0m\u001b[0;34m\u001b[0m\u001b[0;34m\u001b[0m\u001b[0m\n\u001b[1;32m     86\u001b[0m         results = pd.read_csv(os.path.join(train_folder, \n\u001b[0;32m---> 87\u001b[0;31m                                         \"metadata\", \"results.csv\"))\n\u001b[0m\u001b[1;32m     88\u001b[0m         \u001b[0mresults\u001b[0m \u001b[0;34m=\u001b[0m \u001b[0mresults\u001b[0m\u001b[0;34m.\u001b[0m\u001b[0massign\u001b[0m\u001b[0;34m(\u001b[0m\u001b[0;34m**\u001b[0m\u001b[0mparams\u001b[0m\u001b[0;34m)\u001b[0m\u001b[0;34m\u001b[0m\u001b[0;34m\u001b[0m\u001b[0m\n\u001b[1;32m     89\u001b[0m         \u001b[0mresults\u001b[0m\u001b[0;34m.\u001b[0m\u001b[0minsert\u001b[0m\u001b[0;34m(\u001b[0m\u001b[0;36m0\u001b[0m\u001b[0;34m,\u001b[0m \u001b[0;34m'trial_id'\u001b[0m\u001b[0;34m,\u001b[0m \u001b[0muuid\u001b[0m\u001b[0;34m.\u001b[0m\u001b[0muuid4\u001b[0m\u001b[0;34m(\u001b[0m\u001b[0;34m)\u001b[0m\u001b[0;34m)\u001b[0m\u001b[0;34m\u001b[0m\u001b[0;34m\u001b[0m\u001b[0m\n",
            "\u001b[0;32m/usr/local/lib/python3.6/dist-packages/pandas/io/parsers.py\u001b[0m in \u001b[0;36mparser_f\u001b[0;34m(filepath_or_buffer, sep, delimiter, header, names, index_col, usecols, squeeze, prefix, mangle_dupe_cols, dtype, engine, converters, true_values, false_values, skipinitialspace, skiprows, nrows, na_values, keep_default_na, na_filter, verbose, skip_blank_lines, parse_dates, infer_datetime_format, keep_date_col, date_parser, dayfirst, iterator, chunksize, compression, thousands, decimal, lineterminator, quotechar, quoting, escapechar, comment, encoding, dialect, tupleize_cols, error_bad_lines, warn_bad_lines, skipfooter, skip_footer, doublequote, delim_whitespace, as_recarray, compact_ints, use_unsigned, low_memory, buffer_lines, memory_map, float_precision)\u001b[0m\n\u001b[1;32m    707\u001b[0m                     skip_blank_lines=skip_blank_lines)\n\u001b[1;32m    708\u001b[0m \u001b[0;34m\u001b[0m\u001b[0m\n\u001b[0;32m--> 709\u001b[0;31m         \u001b[0;32mreturn\u001b[0m \u001b[0m_read\u001b[0m\u001b[0;34m(\u001b[0m\u001b[0mfilepath_or_buffer\u001b[0m\u001b[0;34m,\u001b[0m \u001b[0mkwds\u001b[0m\u001b[0;34m)\u001b[0m\u001b[0;34m\u001b[0m\u001b[0;34m\u001b[0m\u001b[0m\n\u001b[0m\u001b[1;32m    710\u001b[0m \u001b[0;34m\u001b[0m\u001b[0m\n\u001b[1;32m    711\u001b[0m     \u001b[0mparser_f\u001b[0m\u001b[0;34m.\u001b[0m\u001b[0m__name__\u001b[0m \u001b[0;34m=\u001b[0m \u001b[0mname\u001b[0m\u001b[0;34m\u001b[0m\u001b[0;34m\u001b[0m\u001b[0m\n",
            "\u001b[0;32m/usr/local/lib/python3.6/dist-packages/pandas/io/parsers.py\u001b[0m in \u001b[0;36m_read\u001b[0;34m(filepath_or_buffer, kwds)\u001b[0m\n\u001b[1;32m    447\u001b[0m \u001b[0;34m\u001b[0m\u001b[0m\n\u001b[1;32m    448\u001b[0m     \u001b[0;31m# Create the parser.\u001b[0m\u001b[0;34m\u001b[0m\u001b[0;34m\u001b[0m\u001b[0;34m\u001b[0m\u001b[0m\n\u001b[0;32m--> 449\u001b[0;31m     \u001b[0mparser\u001b[0m \u001b[0;34m=\u001b[0m \u001b[0mTextFileReader\u001b[0m\u001b[0;34m(\u001b[0m\u001b[0mfilepath_or_buffer\u001b[0m\u001b[0;34m,\u001b[0m \u001b[0;34m**\u001b[0m\u001b[0mkwds\u001b[0m\u001b[0;34m)\u001b[0m\u001b[0;34m\u001b[0m\u001b[0;34m\u001b[0m\u001b[0m\n\u001b[0m\u001b[1;32m    450\u001b[0m \u001b[0;34m\u001b[0m\u001b[0m\n\u001b[1;32m    451\u001b[0m     \u001b[0;32mif\u001b[0m \u001b[0mchunksize\u001b[0m \u001b[0;32mor\u001b[0m \u001b[0miterator\u001b[0m\u001b[0;34m:\u001b[0m\u001b[0;34m\u001b[0m\u001b[0;34m\u001b[0m\u001b[0m\n",
            "\u001b[0;32m/usr/local/lib/python3.6/dist-packages/pandas/io/parsers.py\u001b[0m in \u001b[0;36m__init__\u001b[0;34m(self, f, engine, **kwds)\u001b[0m\n\u001b[1;32m    816\u001b[0m             \u001b[0mself\u001b[0m\u001b[0;34m.\u001b[0m\u001b[0moptions\u001b[0m\u001b[0;34m[\u001b[0m\u001b[0;34m'has_index_names'\u001b[0m\u001b[0;34m]\u001b[0m \u001b[0;34m=\u001b[0m \u001b[0mkwds\u001b[0m\u001b[0;34m[\u001b[0m\u001b[0;34m'has_index_names'\u001b[0m\u001b[0;34m]\u001b[0m\u001b[0;34m\u001b[0m\u001b[0;34m\u001b[0m\u001b[0m\n\u001b[1;32m    817\u001b[0m \u001b[0;34m\u001b[0m\u001b[0m\n\u001b[0;32m--> 818\u001b[0;31m         \u001b[0mself\u001b[0m\u001b[0;34m.\u001b[0m\u001b[0m_make_engine\u001b[0m\u001b[0;34m(\u001b[0m\u001b[0mself\u001b[0m\u001b[0;34m.\u001b[0m\u001b[0mengine\u001b[0m\u001b[0;34m)\u001b[0m\u001b[0;34m\u001b[0m\u001b[0;34m\u001b[0m\u001b[0m\n\u001b[0m\u001b[1;32m    819\u001b[0m \u001b[0;34m\u001b[0m\u001b[0m\n\u001b[1;32m    820\u001b[0m     \u001b[0;32mdef\u001b[0m \u001b[0mclose\u001b[0m\u001b[0;34m(\u001b[0m\u001b[0mself\u001b[0m\u001b[0;34m)\u001b[0m\u001b[0;34m:\u001b[0m\u001b[0;34m\u001b[0m\u001b[0;34m\u001b[0m\u001b[0m\n",
            "\u001b[0;32m/usr/local/lib/python3.6/dist-packages/pandas/io/parsers.py\u001b[0m in \u001b[0;36m_make_engine\u001b[0;34m(self, engine)\u001b[0m\n\u001b[1;32m   1047\u001b[0m     \u001b[0;32mdef\u001b[0m \u001b[0m_make_engine\u001b[0m\u001b[0;34m(\u001b[0m\u001b[0mself\u001b[0m\u001b[0;34m,\u001b[0m \u001b[0mengine\u001b[0m\u001b[0;34m=\u001b[0m\u001b[0;34m'c'\u001b[0m\u001b[0;34m)\u001b[0m\u001b[0;34m:\u001b[0m\u001b[0;34m\u001b[0m\u001b[0;34m\u001b[0m\u001b[0m\n\u001b[1;32m   1048\u001b[0m         \u001b[0;32mif\u001b[0m \u001b[0mengine\u001b[0m \u001b[0;34m==\u001b[0m \u001b[0;34m'c'\u001b[0m\u001b[0;34m:\u001b[0m\u001b[0;34m\u001b[0m\u001b[0;34m\u001b[0m\u001b[0m\n\u001b[0;32m-> 1049\u001b[0;31m             \u001b[0mself\u001b[0m\u001b[0;34m.\u001b[0m\u001b[0m_engine\u001b[0m \u001b[0;34m=\u001b[0m \u001b[0mCParserWrapper\u001b[0m\u001b[0;34m(\u001b[0m\u001b[0mself\u001b[0m\u001b[0;34m.\u001b[0m\u001b[0mf\u001b[0m\u001b[0;34m,\u001b[0m \u001b[0;34m**\u001b[0m\u001b[0mself\u001b[0m\u001b[0;34m.\u001b[0m\u001b[0moptions\u001b[0m\u001b[0;34m)\u001b[0m\u001b[0;34m\u001b[0m\u001b[0;34m\u001b[0m\u001b[0m\n\u001b[0m\u001b[1;32m   1050\u001b[0m         \u001b[0;32melse\u001b[0m\u001b[0;34m:\u001b[0m\u001b[0;34m\u001b[0m\u001b[0;34m\u001b[0m\u001b[0m\n\u001b[1;32m   1051\u001b[0m             \u001b[0;32mif\u001b[0m \u001b[0mengine\u001b[0m \u001b[0;34m==\u001b[0m \u001b[0;34m'python'\u001b[0m\u001b[0;34m:\u001b[0m\u001b[0;34m\u001b[0m\u001b[0;34m\u001b[0m\u001b[0m\n",
            "\u001b[0;32m/usr/local/lib/python3.6/dist-packages/pandas/io/parsers.py\u001b[0m in \u001b[0;36m__init__\u001b[0;34m(self, src, **kwds)\u001b[0m\n\u001b[1;32m   1693\u001b[0m         \u001b[0mkwds\u001b[0m\u001b[0;34m[\u001b[0m\u001b[0;34m'allow_leading_cols'\u001b[0m\u001b[0;34m]\u001b[0m \u001b[0;34m=\u001b[0m \u001b[0mself\u001b[0m\u001b[0;34m.\u001b[0m\u001b[0mindex_col\u001b[0m \u001b[0;32mis\u001b[0m \u001b[0;32mnot\u001b[0m \u001b[0;32mFalse\u001b[0m\u001b[0;34m\u001b[0m\u001b[0;34m\u001b[0m\u001b[0m\n\u001b[1;32m   1694\u001b[0m \u001b[0;34m\u001b[0m\u001b[0m\n\u001b[0;32m-> 1695\u001b[0;31m         \u001b[0mself\u001b[0m\u001b[0;34m.\u001b[0m\u001b[0m_reader\u001b[0m \u001b[0;34m=\u001b[0m \u001b[0mparsers\u001b[0m\u001b[0;34m.\u001b[0m\u001b[0mTextReader\u001b[0m\u001b[0;34m(\u001b[0m\u001b[0msrc\u001b[0m\u001b[0;34m,\u001b[0m \u001b[0;34m**\u001b[0m\u001b[0mkwds\u001b[0m\u001b[0;34m)\u001b[0m\u001b[0;34m\u001b[0m\u001b[0;34m\u001b[0m\u001b[0m\n\u001b[0m\u001b[1;32m   1696\u001b[0m \u001b[0;34m\u001b[0m\u001b[0m\n\u001b[1;32m   1697\u001b[0m         \u001b[0;31m# XXX\u001b[0m\u001b[0;34m\u001b[0m\u001b[0;34m\u001b[0m\u001b[0;34m\u001b[0m\u001b[0m\n",
            "\u001b[0;32mpandas/_libs/parsers.pyx\u001b[0m in \u001b[0;36mpandas._libs.parsers.TextReader.__cinit__\u001b[0;34m()\u001b[0m\n",
            "\u001b[0;32mpandas/_libs/parsers.pyx\u001b[0m in \u001b[0;36mpandas._libs.parsers.TextReader._setup_parser_source\u001b[0;34m()\u001b[0m\n",
            "\u001b[0;31mFileNotFoundError\u001b[0m: File b'automl_train/metadata/results.csv' does not exist"
          ]
        }
      ]
    },
    {
      "metadata": {
        "id": "W9y2xI5ShN4n",
        "colab_type": "text"
      },
      "cell_type": "markdown",
      "source": [
        "It gets further, but is perhaps a bit too bleeding edge for us. Let's try [TPOT](https://github.com/EpistasisLab/tpot)."
      ]
    },
    {
      "metadata": {
        "id": "xltSPWmMhQod",
        "colab_type": "code",
        "colab": {
          "base_uri": "https://localhost:8080/",
          "height": 610
        },
        "outputId": "78745223-eb42-41bb-8275-da36697e656a"
      },
      "cell_type": "code",
      "source": [
        "!pip install tpot"
      ],
      "execution_count": 24,
      "outputs": [
        {
          "output_type": "stream",
          "text": [
            "Collecting tpot\n",
            "\u001b[?25l  Downloading https://files.pythonhosted.org/packages/95/35/a6cc358b6bb2749d6dffa1ae2427143211f3092904bbb15d1ad317ebe051/TPOT-0.9.6.tar.gz (892kB)\n",
            "\u001b[K    100% |████████████████████████████████| 901kB 18.6MB/s \n",
            "\u001b[?25hRequirement already satisfied: numpy>=1.12.1 in /usr/local/lib/python3.6/dist-packages (from tpot) (1.14.6)\n",
            "Requirement already satisfied: scipy>=0.19.0 in /usr/local/lib/python3.6/dist-packages (from tpot) (1.1.0)\n",
            "Requirement already satisfied: scikit-learn>=0.18.1 in /usr/local/lib/python3.6/dist-packages (from tpot) (0.20.3)\n",
            "Collecting deap>=1.0 (from tpot)\n",
            "\u001b[?25l  Downloading https://files.pythonhosted.org/packages/af/29/e7f2ecbe02997b16a768baed076f5fc4781d7057cd5d9adf7c94027845ba/deap-1.2.2.tar.gz (936kB)\n",
            "\u001b[K    100% |████████████████████████████████| 942kB 19.0MB/s \n",
            "\u001b[?25hCollecting update_checker>=0.16 (from tpot)\n",
            "  Downloading https://files.pythonhosted.org/packages/17/c9/ab11855af164d03be0ff4fddd4c46a5bd44799a9ecc1770e01a669c21168/update_checker-0.16-py2.py3-none-any.whl\n",
            "Requirement already satisfied: tqdm>=4.26.0 in /usr/local/lib/python3.6/dist-packages (from tpot) (4.28.1)\n",
            "Collecting stopit>=1.1.1 (from tpot)\n",
            "  Downloading https://files.pythonhosted.org/packages/35/58/e8bb0b0fb05baf07bbac1450c447d753da65f9701f551dca79823ce15d50/stopit-1.1.2.tar.gz\n",
            "Requirement already satisfied: pandas>=0.20.2 in /usr/local/lib/python3.6/dist-packages (from tpot) (0.22.0)\n",
            "Requirement already satisfied: requests>=2.3.0 in /usr/local/lib/python3.6/dist-packages (from update_checker>=0.16->tpot) (2.18.4)\n",
            "Requirement already satisfied: pytz>=2011k in /usr/local/lib/python3.6/dist-packages (from pandas>=0.20.2->tpot) (2018.9)\n",
            "Requirement already satisfied: python-dateutil>=2 in /usr/local/lib/python3.6/dist-packages (from pandas>=0.20.2->tpot) (2.5.3)\n",
            "Requirement already satisfied: urllib3<1.23,>=1.21.1 in /usr/local/lib/python3.6/dist-packages (from requests>=2.3.0->update_checker>=0.16->tpot) (1.22)\n",
            "Requirement already satisfied: chardet<3.1.0,>=3.0.2 in /usr/local/lib/python3.6/dist-packages (from requests>=2.3.0->update_checker>=0.16->tpot) (3.0.4)\n",
            "Requirement already satisfied: certifi>=2017.4.17 in /usr/local/lib/python3.6/dist-packages (from requests>=2.3.0->update_checker>=0.16->tpot) (2019.3.9)\n",
            "Requirement already satisfied: idna<2.7,>=2.5 in /usr/local/lib/python3.6/dist-packages (from requests>=2.3.0->update_checker>=0.16->tpot) (2.6)\n",
            "Requirement already satisfied: six>=1.5 in /usr/local/lib/python3.6/dist-packages (from python-dateutil>=2->pandas>=0.20.2->tpot) (1.11.0)\n",
            "Building wheels for collected packages: tpot, deap, stopit\n",
            "  Building wheel for tpot (setup.py) ... \u001b[?25ldone\n",
            "\u001b[?25h  Stored in directory: /root/.cache/pip/wheels/86/5c/dd/c7673fbaccb901ec1a4eb79017fa5b65766805d2a98f954b9a\n",
            "  Building wheel for deap (setup.py) ... \u001b[?25ldone\n",
            "\u001b[?25h  Stored in directory: /root/.cache/pip/wheels/22/ea/bf/dc7c8a2262025a0ab5da9ef02282c198be88902791ca0c6658\n",
            "  Building wheel for stopit (setup.py) ... \u001b[?25ldone\n",
            "\u001b[?25h  Stored in directory: /root/.cache/pip/wheels/3c/85/2b/2580190404636bfc63e8de3dff629c03bb795021e1983a6cc7\n",
            "Successfully built tpot deap stopit\n",
            "Installing collected packages: deap, update-checker, stopit, tpot\n",
            "Successfully installed deap-1.2.2 stopit-1.1.2 tpot-0.9.6 update-checker-0.16\n"
          ],
          "name": "stdout"
        }
      ]
    },
    {
      "metadata": {
        "id": "GhI7BzgmhWMy",
        "colab_type": "code",
        "colab": {
          "base_uri": "https://localhost:8080/",
          "height": 206
        },
        "outputId": "ee393443-4fa2-472a-91c9-1cc9adb296fd"
      },
      "cell_type": "code",
      "source": [
        "import pandas as pd\n",
        "from tpot import TPOTRegressor\n",
        "\n",
        "df = pd.read_csv('car_regression.csv')\n",
        "df.head()"
      ],
      "execution_count": 25,
      "outputs": [
        {
          "output_type": "execute_result",
          "data": {
            "text/html": [
              "<div>\n",
              "<style scoped>\n",
              "    .dataframe tbody tr th:only-of-type {\n",
              "        vertical-align: middle;\n",
              "    }\n",
              "\n",
              "    .dataframe tbody tr th {\n",
              "        vertical-align: top;\n",
              "    }\n",
              "\n",
              "    .dataframe thead th {\n",
              "        text-align: right;\n",
              "    }\n",
              "</style>\n",
              "<table border=\"1\" class=\"dataframe\">\n",
              "  <thead>\n",
              "    <tr style=\"text-align: right;\">\n",
              "      <th></th>\n",
              "      <th>make</th>\n",
              "      <th>price</th>\n",
              "      <th>body</th>\n",
              "      <th>mileage</th>\n",
              "      <th>engV</th>\n",
              "      <th>engType</th>\n",
              "      <th>registration</th>\n",
              "      <th>year</th>\n",
              "      <th>drive</th>\n",
              "    </tr>\n",
              "  </thead>\n",
              "  <tbody>\n",
              "    <tr>\n",
              "      <th>0</th>\n",
              "      <td>23</td>\n",
              "      <td>15500.0</td>\n",
              "      <td>0</td>\n",
              "      <td>68</td>\n",
              "      <td>2.5</td>\n",
              "      <td>1</td>\n",
              "      <td>1</td>\n",
              "      <td>2010</td>\n",
              "      <td>1</td>\n",
              "    </tr>\n",
              "    <tr>\n",
              "      <th>1</th>\n",
              "      <td>50</td>\n",
              "      <td>20500.0</td>\n",
              "      <td>3</td>\n",
              "      <td>173</td>\n",
              "      <td>1.8</td>\n",
              "      <td>1</td>\n",
              "      <td>1</td>\n",
              "      <td>2011</td>\n",
              "      <td>2</td>\n",
              "    </tr>\n",
              "    <tr>\n",
              "      <th>2</th>\n",
              "      <td>50</td>\n",
              "      <td>35000.0</td>\n",
              "      <td>2</td>\n",
              "      <td>135</td>\n",
              "      <td>5.5</td>\n",
              "      <td>3</td>\n",
              "      <td>1</td>\n",
              "      <td>2008</td>\n",
              "      <td>2</td>\n",
              "    </tr>\n",
              "    <tr>\n",
              "      <th>3</th>\n",
              "      <td>50</td>\n",
              "      <td>17800.0</td>\n",
              "      <td>5</td>\n",
              "      <td>162</td>\n",
              "      <td>1.8</td>\n",
              "      <td>0</td>\n",
              "      <td>1</td>\n",
              "      <td>2012</td>\n",
              "      <td>0</td>\n",
              "    </tr>\n",
              "    <tr>\n",
              "      <th>4</th>\n",
              "      <td>55</td>\n",
              "      <td>16600.0</td>\n",
              "      <td>0</td>\n",
              "      <td>83</td>\n",
              "      <td>2.0</td>\n",
              "      <td>3</td>\n",
              "      <td>1</td>\n",
              "      <td>2013</td>\n",
              "      <td>1</td>\n",
              "    </tr>\n",
              "  </tbody>\n",
              "</table>\n",
              "</div>"
            ],
            "text/plain": [
              "   make    price  body  mileage  engV  engType  registration  year  drive\n",
              "0    23  15500.0     0       68   2.5        1             1  2010      1\n",
              "1    50  20500.0     3      173   1.8        1             1  2011      2\n",
              "2    50  35000.0     2      135   5.5        3             1  2008      2\n",
              "3    50  17800.0     5      162   1.8        0             1  2012      0\n",
              "4    55  16600.0     0       83   2.0        3             1  2013      1"
            ]
          },
          "metadata": {
            "tags": []
          },
          "execution_count": 25
        }
      ]
    },
    {
      "metadata": {
        "id": "XED4cuyimEsP",
        "colab_type": "code",
        "colab": {
          "base_uri": "https://localhost:8080/",
          "height": 300
        },
        "outputId": "194fc9de-ba89-4006-fc78-0f1953187ce0"
      },
      "cell_type": "code",
      "source": [
        "df.describe()"
      ],
      "execution_count": 26,
      "outputs": [
        {
          "output_type": "execute_result",
          "data": {
            "text/html": [
              "<div>\n",
              "<style scoped>\n",
              "    .dataframe tbody tr th:only-of-type {\n",
              "        vertical-align: middle;\n",
              "    }\n",
              "\n",
              "    .dataframe tbody tr th {\n",
              "        vertical-align: top;\n",
              "    }\n",
              "\n",
              "    .dataframe thead th {\n",
              "        text-align: right;\n",
              "    }\n",
              "</style>\n",
              "<table border=\"1\" class=\"dataframe\">\n",
              "  <thead>\n",
              "    <tr style=\"text-align: right;\">\n",
              "      <th></th>\n",
              "      <th>make</th>\n",
              "      <th>price</th>\n",
              "      <th>body</th>\n",
              "      <th>mileage</th>\n",
              "      <th>engV</th>\n",
              "      <th>engType</th>\n",
              "      <th>registration</th>\n",
              "      <th>year</th>\n",
              "      <th>drive</th>\n",
              "    </tr>\n",
              "  </thead>\n",
              "  <tbody>\n",
              "    <tr>\n",
              "      <th>count</th>\n",
              "      <td>8495.000000</td>\n",
              "      <td>8495.000000</td>\n",
              "      <td>8495.000000</td>\n",
              "      <td>8495.000000</td>\n",
              "      <td>8495.000000</td>\n",
              "      <td>8495.000000</td>\n",
              "      <td>8495.000000</td>\n",
              "      <td>8495.000000</td>\n",
              "      <td>8495.000000</td>\n",
              "    </tr>\n",
              "    <tr>\n",
              "      <th>mean</th>\n",
              "      <td>46.535491</td>\n",
              "      <td>16185.453305</td>\n",
              "      <td>2.302295</td>\n",
              "      <td>141.744202</td>\n",
              "      <td>2.568337</td>\n",
              "      <td>1.650618</td>\n",
              "      <td>0.941613</td>\n",
              "      <td>2006.500883</td>\n",
              "      <td>0.575868</td>\n",
              "    </tr>\n",
              "    <tr>\n",
              "      <th>std</th>\n",
              "      <td>24.526251</td>\n",
              "      <td>24449.641512</td>\n",
              "      <td>1.610307</td>\n",
              "      <td>97.464062</td>\n",
              "      <td>5.387238</td>\n",
              "      <td>1.341282</td>\n",
              "      <td>0.234488</td>\n",
              "      <td>6.925907</td>\n",
              "      <td>0.741235</td>\n",
              "    </tr>\n",
              "    <tr>\n",
              "      <th>min</th>\n",
              "      <td>0.000000</td>\n",
              "      <td>259.350000</td>\n",
              "      <td>0.000000</td>\n",
              "      <td>0.000000</td>\n",
              "      <td>0.100000</td>\n",
              "      <td>0.000000</td>\n",
              "      <td>0.000000</td>\n",
              "      <td>1959.000000</td>\n",
              "      <td>0.000000</td>\n",
              "    </tr>\n",
              "    <tr>\n",
              "      <th>25%</th>\n",
              "      <td>23.000000</td>\n",
              "      <td>5490.000000</td>\n",
              "      <td>1.000000</td>\n",
              "      <td>74.000000</td>\n",
              "      <td>1.600000</td>\n",
              "      <td>0.000000</td>\n",
              "      <td>1.000000</td>\n",
              "      <td>2004.000000</td>\n",
              "      <td>0.000000</td>\n",
              "    </tr>\n",
              "    <tr>\n",
              "      <th>50%</th>\n",
              "      <td>50.000000</td>\n",
              "      <td>9500.000000</td>\n",
              "      <td>3.000000</td>\n",
              "      <td>130.000000</td>\n",
              "      <td>2.000000</td>\n",
              "      <td>1.000000</td>\n",
              "      <td>1.000000</td>\n",
              "      <td>2008.000000</td>\n",
              "      <td>0.000000</td>\n",
              "    </tr>\n",
              "    <tr>\n",
              "      <th>75%</th>\n",
              "      <td>68.000000</td>\n",
              "      <td>17145.600000</td>\n",
              "      <td>3.000000</td>\n",
              "      <td>197.000000</td>\n",
              "      <td>2.500000</td>\n",
              "      <td>3.000000</td>\n",
              "      <td>1.000000</td>\n",
              "      <td>2011.000000</td>\n",
              "      <td>1.000000</td>\n",
              "    </tr>\n",
              "    <tr>\n",
              "      <th>max</th>\n",
              "      <td>82.000000</td>\n",
              "      <td>547800.000000</td>\n",
              "      <td>5.000000</td>\n",
              "      <td>999.000000</td>\n",
              "      <td>99.990000</td>\n",
              "      <td>3.000000</td>\n",
              "      <td>1.000000</td>\n",
              "      <td>2016.000000</td>\n",
              "      <td>2.000000</td>\n",
              "    </tr>\n",
              "  </tbody>\n",
              "</table>\n",
              "</div>"
            ],
            "text/plain": [
              "              make          price         body      mileage         engV  \\\n",
              "count  8495.000000    8495.000000  8495.000000  8495.000000  8495.000000   \n",
              "mean     46.535491   16185.453305     2.302295   141.744202     2.568337   \n",
              "std      24.526251   24449.641512     1.610307    97.464062     5.387238   \n",
              "min       0.000000     259.350000     0.000000     0.000000     0.100000   \n",
              "25%      23.000000    5490.000000     1.000000    74.000000     1.600000   \n",
              "50%      50.000000    9500.000000     3.000000   130.000000     2.000000   \n",
              "75%      68.000000   17145.600000     3.000000   197.000000     2.500000   \n",
              "max      82.000000  547800.000000     5.000000   999.000000    99.990000   \n",
              "\n",
              "           engType  registration         year        drive  \n",
              "count  8495.000000   8495.000000  8495.000000  8495.000000  \n",
              "mean      1.650618      0.941613  2006.500883     0.575868  \n",
              "std       1.341282      0.234488     6.925907     0.741235  \n",
              "min       0.000000      0.000000  1959.000000     0.000000  \n",
              "25%       0.000000      1.000000  2004.000000     0.000000  \n",
              "50%       1.000000      1.000000  2008.000000     0.000000  \n",
              "75%       3.000000      1.000000  2011.000000     1.000000  \n",
              "max       3.000000      1.000000  2016.000000     2.000000  "
            ]
          },
          "metadata": {
            "tags": []
          },
          "execution_count": 26
        }
      ]
    },
    {
      "metadata": {
        "id": "SRdeEEbomGQ6",
        "colab_type": "code",
        "colab": {}
      },
      "cell_type": "code",
      "source": [
        "from sklearn.model_selection import train_test_split\n",
        "\n",
        "X = df.drop('price', axis=1).values\n",
        "X_train, X_test, y_train, y_test = train_test_split(\n",
        "    X, df['price'].values, train_size=0.75, test_size=0.25)"
      ],
      "execution_count": 0,
      "outputs": []
    },
    {
      "metadata": {
        "id": "p5dAYY5VmuEc",
        "colab_type": "code",
        "colab": {
          "base_uri": "https://localhost:8080/",
          "height": 211
        },
        "outputId": "41208981-b211-489e-ef52-310cfbb66af5"
      },
      "cell_type": "code",
      "source": [
        "%%time\n",
        "\n",
        "tpot = TPOTRegressor(generations=5, population_size=20, verbosity=2)\n",
        "tpot.fit(X_train, y_train)\n",
        "print(tpot.score(X_test, y_test))"
      ],
      "execution_count": 30,
      "outputs": [
        {
          "output_type": "display_data",
          "data": {
            "application/vnd.jupyter.widget-view+json": {
              "model_id": "1d8127ac6c0945a695755da9b9939d62",
              "version_minor": 0,
              "version_major": 2
            },
            "text/plain": [
              "HBox(children=(IntProgress(value=0, description='Optimization Progress', max=120, style=ProgressStyle(descript…"
            ]
          },
          "metadata": {
            "tags": []
          }
        },
        {
          "output_type": "stream",
          "text": [
            "Generation 1 - Current best internal CV score: -92636917.8904812\n",
            "Generation 2 - Current best internal CV score: -92636917.8904812\n",
            "Generation 3 - Current best internal CV score: -87405518.88093515\n",
            "Generation 4 - Current best internal CV score: -82448619.60956766\n",
            "Generation 5 - Current best internal CV score: -82448619.60956766\n",
            "\n",
            "Best pipeline: GradientBoostingRegressor(RobustScaler(input_matrix), alpha=0.9, learning_rate=0.1, loss=ls, max_depth=7, max_features=0.45, min_samples_leaf=2, min_samples_split=17, n_estimators=100, subsample=0.7000000000000001)\n",
            "-95212641.6186412\n",
            "CPU times: user 12min 15s, sys: 18.5 s, total: 12min 34s\n",
            "Wall time: 12min 13s\n"
          ],
          "name": "stdout"
        }
      ]
    },
    {
      "metadata": {
        "id": "ma_BH3rpqLFA",
        "colab_type": "code",
        "colab": {
          "base_uri": "https://localhost:8080/",
          "height": 52
        },
        "outputId": "63602cc4-48a2-461a-d922-4ca2ac354f67"
      },
      "cell_type": "code",
      "source": [
        "tpot.predict(X_test)"
      ],
      "execution_count": 34,
      "outputs": [
        {
          "output_type": "execute_result",
          "data": {
            "text/plain": [
              "array([ 6941.76312027,  6490.98506205,  5716.99816711, ...,\n",
              "        9482.15768688,  8170.80266469, 22037.23983594])"
            ]
          },
          "metadata": {
            "tags": []
          },
          "execution_count": 34
        }
      ]
    },
    {
      "metadata": {
        "id": "nTSYqr_dqdNb",
        "colab_type": "code",
        "colab": {
          "base_uri": "https://localhost:8080/",
          "height": 34
        },
        "outputId": "e04e2b8d-f6f2-4c1d-a452-63b36fb7a578"
      },
      "cell_type": "code",
      "source": [
        "y_test"
      ],
      "execution_count": 35,
      "outputs": [
        {
          "output_type": "execute_result",
          "data": {
            "text/plain": [
              "array([ 7000.,  6100.,  6500., ..., 13200.,  7800., 22700.])"
            ]
          },
          "metadata": {
            "tags": []
          },
          "execution_count": 35
        }
      ]
    },
    {
      "metadata": {
        "id": "aVijM-bCd6Xh",
        "colab_type": "text"
      },
      "cell_type": "markdown",
      "source": [
        "It works - but it looks like we're not quite out of a job yet."
      ]
    },
    {
      "metadata": {
        "id": "hYXU2HBrswcX",
        "colab_type": "text"
      },
      "cell_type": "markdown",
      "source": [
        "## So, is AutoML an \"AGI\"?"
      ]
    },
    {
      "metadata": {
        "id": "ws30-q7PtEWE",
        "colab_type": "text"
      },
      "cell_type": "markdown",
      "source": [
        "**No** - it's a grid search in parameter space, with some clever type inference heuristics and a slick interface.\n",
        "\n",
        "But, it *is* artificial, it *does* give intelligent results, and (like most technology) it *multiplies* productivity. It's not going to \"take our jobs\" - but it does mean that, in some situations, one data scientist will be able to do what formerly took several to achieve."
      ]
    },
    {
      "metadata": {
        "id": "glOqJQkA0bxG",
        "colab_type": "text"
      },
      "cell_type": "markdown",
      "source": [
        "## Is Artificial General Intelligence dangerous?"
      ]
    },
    {
      "metadata": {
        "id": "BZrQq9D3ik6h",
        "colab_type": "text"
      },
      "cell_type": "markdown",
      "source": [
        "![I'm working to bring about a superintelligent AI that will eternally torment everyone who failed to make fun of the Roko's Basilisk people.](https://imgs.xkcd.com/comics/ai_box_experiment.png)\n",
        "\n",
        "There's been much philosophizing, thought experimenting, and even some genuine advocacy and policy considerations about the impact of a \"true\" AGI on human society. Most of these analyses essentially consider the AGI as an unfathomable deity, thinking and moving in ways well beyond human comprehension.\n",
        "\n",
        "Consider the [paperclip maximizer](https://en.wikipedia.org/wiki/Instrumental_convergence#Paperclip_maximizer):\n",
        "\n",
        "> Suppose we have an AI whose only goal is to make as many paper clips as possible. The AI will realize quickly that it would be much better if there were no humans because humans might decide to switch it off. Because if humans do so, there would be fewer paper clips. Also, human bodies contain a lot of atoms that could be made into paper clips. The future that the AI would be trying to gear towards would be one in which there were a lot of paper clips but no humans. — Nick Bostrom\n",
        "\n",
        "This is an example of *instrumental convergence* - the idea that, if an AGI were to pursue an unbounded goal (a natural instruction like \"Maximize the health of all humans\") it may push it in extremely unexpected ways (put all humans in vats of goo, to both preserve them and prevent them from disabling it, since its existence is also of value to help humans).\n",
        "\n",
        "Is this a *realistic* concern? Well, maybe eventually - but pretty obviously not an immediate one. There are many more prominent challenges involving tech and society - privacy, economic growth, equality, education - and even *if* AGI existed it's not clear how they would have the means to enact such fantastic plans. Killer robot armies make for good TV, but at some step there's likely a human with an off switch."
      ]
    },
    {
      "metadata": {
        "id": "ayWGQhHu1yRu",
        "colab_type": "text"
      },
      "cell_type": "markdown",
      "source": [
        "## Where is AI going, and where does it leave us?"
      ]
    },
    {
      "metadata": {
        "id": "zrBqwYoziUSm",
        "colab_type": "text"
      },
      "cell_type": "markdown",
      "source": [
        "![Lambda calculus? More like SHAMda calculus, amirite?](https://imgs.xkcd.com/comics/ai_research.png)\n",
        "\n",
        "On the one hand, we live in a remarkable time. The explosion of technology from WWII to present has brought about countless innovations, greatly increased median life expectancy and GDP, and shows no sign of slowing down.\n",
        "\n",
        "On the other hand, the more things change the more they stay the same. Humans are still Homo sapiens, with the same brains we've had for many millenia. [Dunbar's number](https://en.wikipedia.org/wiki/Dunbar's_number) stymies our attempts to be globally considerate and aware, and at the end of the day it seems like the vast majority of our behavior is as it ever has been - just with shinier toys.\n",
        "\n",
        "So, what will happen? Will technology usher in a utopia, where automation finally relieves us all of burdensome tasks and we are free to explore science, art, and leisure? Or are we doomed to a dystopia, where increased production is also increasingly centralized and the vast majority of humanity becomes a permanent underclass in a postmodern cyberpunk world?\n",
        "\n",
        "Probably neither - both are extreme points along a continuum of possibility. But wherever we do end up, it is all but certain that AI (that is, technology generating insights and signal) will be a key part of it."
      ]
    },
    {
      "metadata": {
        "id": "ZpbzOQKU7Yv2",
        "colab_type": "text"
      },
      "cell_type": "markdown",
      "source": [
        "## And what about A*G*I?"
      ]
    },
    {
      "metadata": {
        "id": "kB8YZxHc7gGm",
        "colab_type": "text"
      },
      "cell_type": "markdown",
      "source": [
        "> \"I think, therefore I am.\" -- René Descartes\n",
        "\n",
        "> \"I am a strange loop.\" -- Douglas Hofstadter\n",
        "\n",
        "Artificial General Intelligence is, as discussed, a moving target. Perhaps what we're looking for isn't intelligence, but consciousness - and specifically, consciousness *we* recognize and empathize with. Much like all parents, us humans want to foster something new in our image, and see it succeed in a way we appreciate.\n",
        "\n",
        "It's not clear if technology will ever *really* get there. The structure and approach to artificial intelligence is inherently, well, artificial - some things like neural networks are \"inspired\" by biology, but still very different (far fewer connections, but far faster with more data). Perhaps computers really already *are* intelligent, just not in a way we recognize.\n",
        "\n",
        "And if we ever do succeed at making our virtual progeny, we may find it bittersweet - not because they will inevitably destroy us (though they probably will outlast us), but simply because it will then lead us to wonder what is so special about us in the first place. If we can create an AGI from metal and sand, then are we not just mechanisms of a different sort?"
      ]
    },
    {
      "metadata": {
        "id": "0lfZdD_cp1t5",
        "colab_type": "text"
      },
      "cell_type": "markdown",
      "source": [
        "# Assignment\n",
        "\n",
        "Use either [automl-gs](https://github.com/minimaxir/automl-gs) or [TPOT](https://github.com/EpistasisLab/tpot) to solve at least two of your prior assignments, projects, or other past work (any time you fit a classification or regression model). Report the results, and compare/contrast with the results you found when you worked on it using your \"human\" ML approach.\n",
        "\n",
        "Note - these tools promise a lot, but the reality is that you may have to debug a bit and figure out getting your data in a format that it recognizes. Welcome to the cutting edge - at least there's still plenty of work to do!"
      ]
    },
    {
      "metadata": {
        "id": "Ltj1je1fp5rO",
        "colab_type": "code",
        "colab": {}
      },
      "cell_type": "code",
      "source": [
        "# TODO - ✨"
      ],
      "execution_count": 0,
      "outputs": []
    },
    {
      "metadata": {
        "id": "zE4a4O7Bp5x1",
        "colab_type": "text"
      },
      "cell_type": "markdown",
      "source": [
        "# Resources and Stretch Goals"
      ]
    },
    {
      "metadata": {
        "id": "uT3UV3gap9H6",
        "colab_type": "text"
      },
      "cell_type": "markdown",
      "source": [
        "Stretch goals\n",
        "- Apply AutoML to more data, including data you've not analyzed or data you're considering for project work\n",
        "- Try to work with the GPU/TPU options, and see if you can accelerate your AutoML\n",
        "- Check out other competing AutoML systems (see resources or search and share - many are cloud hosted which is why we went with this)\n",
        "- Write a blog post summarizing your experience learning Data Science at Lambda School!\n",
        "\n",
        "Resources\n",
        "- [What to expect from AutoML software](https://epistasislab.github.io/tpot/using/#what-to-expect-from-automl-software)\n",
        "- [TPOT examples](https://epistasislab.github.io/tpot/examples/)\n",
        "- [Google Cloud AutoML](https://cloud.google.com/automl/) - the Google offering in the AutoML space (also has vision, video, NLP, and translation)\n",
        "- [Microsoft AutoML](https://www.microsoft.com/en-us/research/project/automl/)\n",
        "- [AutoML.org](https://www.automl.org)\n",
        "- [Ludwig](https://uber.github.io/ludwig/) - a toolbox for deep learning that doesn't require coding, from Uber\n",
        "- [USENIX Security '18-Q: Why Do Keynote Speakers Keep Suggesting That Improving Security Is Possible?](https://youtu.be/ajGX7odA87k) - a humorous but informative presentation by James Mickens, focused on security but with a consideration of data and machine learning"
      ]
    }
  ]
}